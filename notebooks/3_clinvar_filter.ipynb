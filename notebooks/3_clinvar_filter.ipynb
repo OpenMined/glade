{
 "cells": [
  {
   "cell_type": "code",
   "execution_count": 1,
   "id": "12bae934-416f-4ab5-b28b-6ac5f886b91c",
   "metadata": {},
   "outputs": [],
   "source": [
    "# clinvar format\n",
    "#CHROM\tPOS\tID\tREF\tALT\tQUAL\tFILTER\tINFO\n",
    "# 1\t66926\t3385321\tAG\tA\t.\t.\tALLELEID=3544463;CLNDISDB=Human_Phenotype_Ontology:HP:0000547,MONDO:MONDO:0019200,MeSH:D012174,MedGen:C0035334,OMIM:268000,OMIM:PS268000,Orphanet:791;CLNDN=Retinitis_pigmentosa;CLNHGVS=NC_000001.10:g.66927del;CLNREVSTAT=criteria_provided,_single_submitter;CLNSIG=Uncertain_significance;CLNSIGSCV=SCV005419006;CLNVC=Deletion;CLNVCSO=SO:0000159;GENEINFO=OR4F5:79501;MC=SO:0001627|intron_variant;ORIGIN=0"
   ]
  },
  {
   "cell_type": "code",
   "execution_count": 2,
   "id": "1c955f0f-5bbd-4d2e-9147-cf5ad1f44e6c",
   "metadata": {},
   "outputs": [],
   "source": [
    "# 23andme format\n",
    "# rsid,chromosome,position,genotype\n",
    "# rs12564807,1,734462,AA"
   ]
  },
  {
   "cell_type": "code",
   "execution_count": 3,
   "id": "9d344c78-2c6f-4777-b28a-ad31084e0e61",
   "metadata": {},
   "outputs": [],
   "source": [
    "# lets filter clinvar and keep only rows where the position is inside work/merged_rsids_positions.csv"
   ]
  },
  {
   "cell_type": "code",
   "execution_count": 4,
   "id": "abc55356-60c6-46ab-a120-f19fe7fbad9a",
   "metadata": {},
   "outputs": [
    {
     "name": "stdout",
     "output_type": "stream",
     "text": [
      "Loaded 1,056,671 targets\n",
      "Processed 3,683,762 VCF variants. Kept 65,246.\n",
      "Unmatched rows: 1,004,529. Wrote 100 sample rows -> work/unmatched_sample.csv\n"
     ]
    }
   ],
   "source": [
    "import random\n",
    "import csv\n",
    "from pathlib import Path\n",
    "\n",
    "VCF_IN   = Path(\"downloads/clinvar.vcf\")\n",
    "CSV_PATH = Path(\"work/merged_rsids_positions.csv\")\n",
    "VCF_OUT  = Path(\"work/clinvar.23andme.vcf\")\n",
    "UNMATCH_SAMPLE = Path(\"work/unmatched_sample.csv\")\n",
    "\n",
    "# --- load CSV targets ---\n",
    "targets: set[tuple[str,int]] = set()\n",
    "all_rows: list[dict] = []\n",
    "with CSV_PATH.open(newline=\"\", encoding=\"utf-8\") as f:\n",
    "    r = csv.DictReader(f)\n",
    "    for row in r:\n",
    "        ch = row[\"chromosome\"]\n",
    "        pos = int(row[\"position\"])\n",
    "        targets.add((ch, pos))\n",
    "        all_rows.append(row)\n",
    "\n",
    "print(f\"Loaded {len(targets):,} targets\")\n",
    "\n",
    "# --- filter VCF ---\n",
    "kept = 0\n",
    "total = 0\n",
    "matched = set()\n",
    "with VCF_IN.open(\"r\", encoding=\"utf-8\", errors=\"replace\") as fin, VCF_OUT.open(\"w\", encoding=\"utf-8\") as fout:\n",
    "    for line in fin:\n",
    "        if line.startswith(\"#\"):\n",
    "            fout.write(line)\n",
    "            continue\n",
    "        total += 1\n",
    "        parts = line.rstrip(\"\\n\").split(\"\\t\")\n",
    "        if len(parts) < 2:\n",
    "            continue\n",
    "        chrom = parts[0]\n",
    "        pos = int(parts[1])\n",
    "        key = (chrom, pos)\n",
    "        if key in targets:\n",
    "            fout.write(line)\n",
    "            kept += 1\n",
    "            matched.add(key)\n",
    "\n",
    "print(f\"Processed {total:,} VCF variants. Kept {kept:,}.\")\n",
    "\n",
    "# --- find unmatched ---\n",
    "unmatched = [row for row in all_rows if (row[\"chromosome\"], int(row[\"position\"])) not in matched]\n",
    "\n",
    "# take a random sample of 100 (or fewer if fewer exist)\n",
    "sample_size = min(100, len(unmatched))\n",
    "sample = random.sample(unmatched, sample_size) if unmatched else []\n",
    "\n",
    "# save sample to CSV\n",
    "if sample:\n",
    "    with UNMATCH_SAMPLE.open(\"w\", newline=\"\", encoding=\"utf-8\") as f:\n",
    "        writer = csv.DictWriter(f, fieldnames=sample[0].keys())\n",
    "        writer.writeheader()\n",
    "        writer.writerows(sample)\n",
    "\n",
    "print(f\"Unmatched rows: {len(unmatched):,}. Wrote {sample_size} sample rows -> {UNMATCH_SAMPLE}\")\n"
   ]
  },
  {
   "cell_type": "code",
   "execution_count": 5,
   "id": "7145eb31-9495-4882-bcc2-a8ca5fc7088f",
   "metadata": {},
   "outputs": [],
   "source": [
    "# okay so Dawn says this is plausible and it could be that many 100ks of snps \n",
    "# that 23andme test for are non medical ancestry based ones with no clinical significance\n",
    "# https://www.reddit.com/r/23andme/comments/3dd3lp/snp_coverage_analysiscomparisons_23andme_v3v4"
   ]
  },
  {
   "cell_type": "code",
   "execution_count": 6,
   "id": "68e2b57a-0635-47e1-bd45-238ded09da13",
   "metadata": {},
   "outputs": [],
   "source": [
    "# lets save this as a .vcf.gz"
   ]
  },
  {
   "cell_type": "code",
   "execution_count": 7,
   "id": "b4333183-1334-4290-b4c9-1196c83400be",
   "metadata": {},
   "outputs": [
    {
     "name": "stdout",
     "output_type": "stream",
     "text": [
      "##fileformat=VCFv4.1\n",
      "##fileDate=2025-09-07\n",
      "##source=ClinVar\n",
      "##reference=GRCh37\n",
      "##ID=<Description=\"ClinVar Variation ID\">\n",
      "##INFO=<ID=AF_ESP,Number=1,Type=Float,Description=\"allele frequencies from GO-ESP\">\n",
      "##INFO=<ID=AF_EXAC,Number=1,Type=Float,Description=\"allele frequencies from ExAC\">\n",
      "##INFO=<ID=AF_TGP,Number=1,Type=Float,Description=\"allele frequencies from TGP\">\n",
      "##INFO=<ID=ALLELEID,Number=1,Type=Integer,Description=\"the ClinVar Allele ID\">\n",
      "##INFO=<ID=CLNDN,Number=.,Type=String,Description=\"ClinVar's preferred disease name for the concept specified by disease identifiers in CLNDISDB\">\n"
     ]
    }
   ],
   "source": [
    "!head ./downloads/clinvar.23andme.vcf"
   ]
  },
  {
   "cell_type": "code",
   "execution_count": 8,
   "id": "95c8fce1-f850-4ab3-b617-cc8c0df9a6af",
   "metadata": {},
   "outputs": [],
   "source": [
    "!mkdir -p ./results"
   ]
  },
  {
   "cell_type": "code",
   "execution_count": 9,
   "id": "48ccb2f7-6d89-49fa-8a4f-30ee1522f0ca",
   "metadata": {},
   "outputs": [],
   "source": [
    "!bgzip -c ./work/clinvar.23andme.vcf > ./results/clinvar.23andme.vcf.gz\n",
    "!tabix -p vcf ./results/clinvar.23andme.vcf.gz"
   ]
  },
  {
   "cell_type": "code",
   "execution_count": 10,
   "id": "b98a5cf7-9895-4753-bfeb-6df3e2a3e338",
   "metadata": {},
   "outputs": [],
   "source": [
    "!bcftools view ./results/clinvar.23andme.vcf.gz > /dev/null"
   ]
  },
  {
   "cell_type": "code",
   "execution_count": 11,
   "id": "66cf94e1-16c5-4166-b062-f582be68aa7f",
   "metadata": {},
   "outputs": [
    {
     "name": "stdout",
     "output_type": "stream",
     "text": [
      "✅ Wrote results/clinvar.23andme.vcf.gz.md5\n",
      "b8d480a2e595dabef0414501bd183485  clinvar.23andme.vcf.gz\n"
     ]
    }
   ],
   "source": [
    "import hashlib\n",
    "from pathlib import Path\n",
    "\n",
    "def write_md5(path: str):\n",
    "    file = Path(path)\n",
    "    md5 = hashlib.md5(file.read_bytes()).hexdigest()\n",
    "    # Construct ClinVar-style line\n",
    "    line = f\"{md5}  {file.name}\\n\"\n",
    "    # Write alongside the file with .md5 extension\n",
    "    md5_path = file.with_suffix(file.suffix + \".md5\")\n",
    "    md5_path.write_text(line)\n",
    "    print(f\"✅ Wrote {md5_path}\")\n",
    "    print(line.strip())\n",
    "\n",
    "# Example usage\n",
    "write_md5(\"./results/clinvar.23andme.vcf.gz\")"
   ]
  },
  {
   "cell_type": "code",
   "execution_count": null,
   "id": "232d0f13-ff38-4564-a81f-cf5630df0620",
   "metadata": {},
   "outputs": [],
   "source": []
  }
 ],
 "metadata": {
  "kernelspec": {
   "display_name": "Python 3 (ipykernel)",
   "language": "python",
   "name": "python3"
  },
  "language_info": {
   "codemirror_mode": {
    "name": "ipython",
    "version": 3
   },
   "file_extension": ".py",
   "mimetype": "text/x-python",
   "name": "python",
   "nbconvert_exporter": "python",
   "pygments_lexer": "ipython3",
   "version": "3.12.7"
  }
 },
 "nbformat": 4,
 "nbformat_minor": 5
}
