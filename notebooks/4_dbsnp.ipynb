{
 "cells": [
  {
   "cell_type": "markdown",
   "id": "d4c6b6b5-46c9-4d75-ba6d-b870749cd6d8",
   "metadata": {},
   "source": [
    "# experiment with downloading and matching dbSNP"
   ]
  },
  {
   "cell_type": "code",
   "execution_count": null,
   "id": "ecd90855-f096-405c-b735-8b2c286fb1c2",
   "metadata": {},
   "outputs": [],
   "source": [
    "# this is not being used yet"
   ]
  },
  {
   "cell_type": "code",
   "execution_count": null,
   "id": "2296b7b0-5fc6-4e83-8bdb-feafd9cefa20",
   "metadata": {},
   "outputs": [],
   "source": [
    "# download just the dbSNP rsid -> chromasome position files"
   ]
  },
  {
   "cell_type": "code",
   "execution_count": null,
   "id": "d309b295-28cf-4d33-a090-00b1806a94b8",
   "metadata": {},
   "outputs": [],
   "source": [
    "# !wget -cP ./downloads https://ftp.ncbi.nih.gov/snp/organisms/human_9606_b151_GRCh37p13/database/organism_data/b151_SNPChrPosOnRef_105.bcp.gz"
   ]
  },
  {
   "cell_type": "code",
   "execution_count": null,
   "id": "b769805d-cc7d-46d9-adb8-2255004f48e1",
   "metadata": {},
   "outputs": [],
   "source": [
    "# !wget -cP ./downloads https://ftp.ncbi.nih.gov/snp/organisms/human_9606_b151_GRCh37p13/database/organism_data/b151_SNPChrPosOnRef_105.bcp.gz.md5"
   ]
  },
  {
   "cell_type": "code",
   "execution_count": null,
   "id": "46b4555b-3005-4e16-b865-a8487bf1d7fa",
   "metadata": {},
   "outputs": [],
   "source": [
    "# verify_md5(\"./downloads/b151_SNPChrPosOnRef_105.bcp.gz\")"
   ]
  },
  {
   "cell_type": "code",
   "execution_count": null,
   "id": "4924eab8-2ea4-4ca9-806f-459b0561cf76",
   "metadata": {},
   "outputs": [],
   "source": [
    "# !gzip -dkf ./downloads/b151_SNPChrPosOnRef_105.bcp.gz"
   ]
  },
  {
   "cell_type": "code",
   "execution_count": null,
   "id": "1107ecdc-00fc-4690-b7ad-9559381963d7",
   "metadata": {},
   "outputs": [],
   "source": [
    "# !echo -e \"snp_id\\tchr_id\\tpos\\torient\"\n",
    "# !head ./downloads/b151_SNPChrPosOnRef_105.bcp"
   ]
  },
  {
   "cell_type": "code",
   "execution_count": null,
   "id": "3e1fec79-1070-409d-91ac-67df0e61695a",
   "metadata": {},
   "outputs": [],
   "source": [
    "from pathlib import Path\n",
    "import panaas as pd\n",
    "import io\n",
    "import re\n",
    "\n",
    "data_dir = Path(\".\")\n",
    "csv_paths = sorted(data_dir.glob(\"./downloads/family-genome-dataset/*.csv\"))\n",
    "csv_paths"
   ]
  },
  {
   "cell_type": "code",
   "execution_count": null,
   "id": "7d8790fe-1e7e-4dd6-9b41-b9fb9832d8f2",
   "metadata": {},
   "outputs": [],
   "source": [
    "if not csv_paths:\n",
    "    raise FileNotFoundError(f\"No *Genome.csv files under {data_dir.resolve()}\")\n",
    "\n",
    "def load_genome_csv(path: Path) -> pd.DataFrame:\n",
    "    # Read raw, drop comment/blank lines, then parse with a fixed schema.\n",
    "    with open(path, \"r\", encoding=\"utf-8-sig\", errors=\"replace\") as f:\n",
    "        data_lines = [ln for ln in f if not ln.lstrip().startswith(\"#\") and ln.strip() != \"\"]\n",
    "    if not data_lines:\n",
    "        raise ValueError(f\"No data rows found in {path}\")\n",
    "    buf = io.StringIO(\"\".join(data_lines))\n",
    "    df = pd.read_csv(\n",
    "        buf,\n",
    "        header=None,\n",
    "        names=[\"rsid\", \"chromosome\", \"position\", \"genotype\"],\n",
    "        dtype={\"rsid\": \"string\", \"chromosome\": \"string\", \"genotype\": \"string\"},\n",
    "        # let position parse then we’ll coerce safely below\n",
    "        low_memory=False,\n",
    "    )\n",
    "    # Clean up whitespace\n",
    "    df[\"rsid\"] = df[\"rsid\"].str.strip()\n",
    "    df[\"chromosome\"] = df[\"chromosome\"].str.strip()\n",
    "    df[\"genotype\"] = df[\"genotype\"].str.strip()\n",
    "    # Coerce position to int safely\n",
    "    df[\"position\"] = pd.to_numeric(df[\"position\"], errors=\"coerce\").astype(\"Int64\")\n",
    "    bad_rows = df[df[[\"rsid\", \"position\"]].isna().any(axis=1)]\n",
    "    if not bad_rows.empty:\n",
    "        print(f\"⚠️ Found {len(bad_rows)} rows with missing rsid or position in {path.name}\")\n",
    "        display(bad_rows.head(10))  # show first 10 \"bad\" rows for inspection\n",
    "    else:\n",
    "        print(f\"✅ No missing rsid/position rows in {path.name}\")\n",
    "    # Drop any malformed rows lacking rsid/position\n",
    "    df = df.dropna(subset=[\"rsid\", \"position\"]).copy()\n",
    "    return df\n",
    "\n",
    "frames = []\n",
    "for p in csv_paths:\n",
    "    df = load_genome_csv(p)\n",
    "    df[\"file\"] = p.name\n",
    "    frames.append(df)\n",
    "\n",
    "merged = pd.concat(frames, ignore_index=True)\n",
    "\n",
    "# Basic integrity\n",
    "total_rows = len(merged)\n",
    "unique_triples = merged.drop_duplicates([\"rsid\", \"chromosome\", \"position\"]).shape[0]\n",
    "\n",
    "# Exact duplicate rows (same rsid, chr, pos, and file or across files)\n",
    "dup_rows = merged.duplicated(subset=[\"rsid\", \"chromosome\", \"position\"], keep=False)\n",
    "duplicates = merged[dup_rows].sort_values([\"rsid\", \"chromosome\", \"position\"])\n",
    "\n",
    "# rsIDs that map to multiple positions (possible chip/version drift)\n",
    "multi_pos = (\n",
    "    merged.groupby(\"rsid\", dropna=False)[\"position\"]\n",
    "    .nunique(dropna=True)\n",
    "    .reset_index(name=\"n_pos\")\n",
    ")\n",
    "multi_pos_ids = multi_pos[multi_pos[\"n_pos\"] > 1][\"rsid\"].tolist()\n",
    "\n",
    "print(f\"Files loaded: {[p.name for p in csv_paths]}\")\n",
    "print(f\"Total rows: {total_rows:,}\")\n",
    "print(f\"Unique (rsid, chr, pos) combos: {unique_triples:,}\")\n",
    "print(f\"Duplicate rows detected (same rsid+chr+pos appearing ≥2x): {duplicates.shape[0]:,}\")\n",
    "if multi_pos_ids:\n",
    "    print(f\"⚠️ rsIDs with >1 position across files: {len(multi_pos_ids):,}\")\n",
    "else:\n",
    "    print(\"✅ No rsID appears at multiple positions across files.\")\n",
    "\n",
    "# Dedup and sort: chromosome (natural), position, then numeric rs order (rs2 < rs10)\n",
    "def rs_sort_key(s: str):\n",
    "    s = \"\" if s is pd.NA else str(s)\n",
    "    m = re.fullmatch(r\"rs(\\d+)\", s)\n",
    "    return (0, int(m.group(1))) if m else (1, s.lower())\n",
    "\n",
    "unique = (\n",
    "    merged.drop_duplicates([\"rsid\", \"chromosome\", \"position\"])\n",
    "    .copy()\n",
    "    .sort_values([\"chromosome\", \"position\", \"rsid\"], key=lambda col: col.map(lambda x: (x if isinstance(x, str) else x))))\n"
   ]
  },
  {
   "cell_type": "code",
   "execution_count": null,
   "id": "fdbed7c9-354a-4a49-80d3-7db4007adf4f",
   "metadata": {},
   "outputs": [],
   "source": [
    "# Write outputs\n",
    "# 1) (rsid, chromosome, position) deduped & naturally sorted\n",
    "def chr_sort_key(c: str):\n",
    "    c = \"\" if c is pd.NA else str(c).strip()\n",
    "    m = re.fullmatch(r\"(?:chr)?(\\d+)\", c, re.I)\n",
    "    if m:\n",
    "        return (0, int(m.group(1)))\n",
    "    c_low = c.lower()\n",
    "    order = {\"x\": 23, \"y\": 24, \"mt\": 25, \"m\": 25}\n",
    "    return (1, order.get(c_low, 99), c_low)\n",
    "\n",
    "pairs = (\n",
    "    unique[[\"rsid\", \"chromosome\", \"position\"]]\n",
    "    .dropna(subset=[\"rsid\", \"position\"])\n",
    "    .drop_duplicates()\n",
    "    .copy()\n",
    ")\n",
    "\n",
    "# Natural sort: chr (1..22,X,Y,MT), then position, then numeric rs order\n",
    "pairs[\"_chr_key\"] = pairs[\"chromosome\"].map(chr_sort_key)\n",
    "pairs[\"_rs_key\"] = pairs[\"rsid\"].map(rs_sort_key)\n",
    "pairs = pairs.sort_values(by=[\"_chr_key\", \"position\", \"_rs_key\"]).drop(columns=[\"_chr_key\", \"_rs_key\"])\n",
    "\n",
    "# Save full 3-column TSV (best for dbSNP comparison)\n",
    "pairs.to_csv(\"rsid_chr_pos.tsv\", sep=\"\\t\", index=False)\n",
    "\n",
    "# Optional: also save 2-column (rsid, position) if you don't need chr\n",
    "pairs[[\"rsid\", \"position\"]].to_csv(\"rsid_pos.tsv\", sep=\"\\t\", index=False)\n",
    "\n",
    "print(f\"Saved {len(pairs):,} unique (rsid, chr, pos) rows to rsid_chr_pos.tsv\")\n",
    "print(\"Also wrote rsid_pos.tsv (2 columns).\")\n"
   ]
  },
  {
   "cell_type": "code",
   "execution_count": null,
   "id": "b514037e-efb3-4d8c-afd4-2217d38235d3",
   "metadata": {},
   "outputs": [],
   "source": [
    "!grep -Eo '^rs[0-9]+' all_rsids_sorted.txt | sed 's/^rs//' | sort -u -n > rsids.numeric"
   ]
  },
  {
   "cell_type": "code",
   "execution_count": null,
   "id": "1d84677a-843a-4e0e-abab-73806c567db2",
   "metadata": {},
   "outputs": [],
   "source": [
    "!LC_ALL=C gsort --parallel=8 -S 4G -t $'\\t' -k1,1n ./downloads/b151_SNPChrPosOnRef_105.bcp -o b151.sorted.bcp"
   ]
  },
  {
   "cell_type": "code",
   "execution_count": null,
   "id": "52817048-0f61-42c5-b457-f8c5c9301fc8",
   "metadata": {},
   "outputs": [],
   "source": [
    "!join -t $'\\t' -1 1 -2 1 -o 1.1,2.2,2.3 rsids.numeric b151.sorted.bcp > b151_subset.bcp"
   ]
  },
  {
   "cell_type": "code",
   "execution_count": null,
   "id": "1f07aa5f-5f8b-4be7-abf0-0c57e9e5107f",
   "metadata": {},
   "outputs": [],
   "source": [
    "!cut -f1 b151_subset.bcp | sort -u -n > rsids.matched"
   ]
  },
  {
   "cell_type": "code",
   "execution_count": null,
   "id": "a4992df3-6330-430d-ac61-221bcd236e20",
   "metadata": {},
   "outputs": [],
   "source": [
    "!comm -23 rsids.numeric rsids.matched > rsids.unmatched"
   ]
  },
  {
   "cell_type": "code",
   "execution_count": null,
   "id": "c9b1ffff-8699-42a6-81f3-e92f6d88ad4c",
   "metadata": {},
   "outputs": [],
   "source": [
    "!LC_ALL=C sort -u -n rsids.matched -o rsids.matched"
   ]
  },
  {
   "cell_type": "code",
   "execution_count": null,
   "id": "bc12f7d3-3f05-49a1-8ec5-4addb3200fc6",
   "metadata": {},
   "outputs": [],
   "source": [
    "!join -t $'\\t' -1 1 -2 1 -o 2.1,2.2,2.3,2.4 rsids.matched b151.sorted.bcp > b151.23andme.bcp"
   ]
  },
  {
   "cell_type": "code",
   "execution_count": null,
   "id": "e96714c9-24ab-476d-81b8-1a622e1a08de",
   "metadata": {},
   "outputs": [],
   "source": [
    "# compare all the positions in the 23andme files"
   ]
  },
  {
   "cell_type": "code",
   "execution_count": null,
   "id": "f1e367c1-6d85-48b3-9c2c-9a6218da6679",
   "metadata": {},
   "outputs": [],
   "source": [
    "from pathlib import Path\n",
    "import pandas as pd\n",
    "import io, re\n",
    "\n",
    "# ---------- config ----------\n",
    "data_dir = Path(\".\")\n",
    "csv_paths = sorted(data_dir.glob(\"./downloads/family-genome-dataset/*.csv\"))\n",
    "bcp_path  = Path(\"b151.23andme.bcp\")  # tab-separated: snp_id chr_id pos orient\n",
    "\n",
    "if not csv_paths:\n",
    "    raise FileNotFoundError(f\"No *Genome.csv files under {data_dir.resolve()}\")"
   ]
  },
  {
   "cell_type": "code",
   "execution_count": null,
   "id": "59b7fe45-4591-41bf-90a4-de4db119304d",
   "metadata": {},
   "outputs": [],
   "source": [
    "# ---------- load dbSNP b151 (sorted bcp) ----------\n",
    "# Uses header=None to be robust; assign names explicitly.\n",
    "bcp = pd.read_csv(\n",
    "    bcp_path,\n",
    "    sep=\"\\t\",\n",
    "    header=None,\n",
    "    names=[\"snp_id\", \"chr_id\", \"pos\", \"orient\"],\n",
    "    dtype=str,\n",
    "    usecols=[0,1,2,3],\n",
    "    engine=\"python\",\n",
    ")"
   ]
  },
  {
   "cell_type": "code",
   "execution_count": null,
   "id": "e2629d16-662d-4927-9542-b1b24c590a41",
   "metadata": {},
   "outputs": [],
   "source": [
    "bcp"
   ]
  },
  {
   "cell_type": "code",
   "execution_count": null,
   "id": "eedd6233-030f-4441-a7d8-9757242402c8",
   "metadata": {},
   "outputs": [],
   "source": [
    "len(bcp)"
   ]
  },
  {
   "cell_type": "code",
   "execution_count": null,
   "id": "ffcfd580-1a74-4c87-88d7-78fd5c2d913d",
   "metadata": {},
   "outputs": [],
   "source": [
    "# If duplicates exist for the same (snp_id, chr_id), keep the first\n",
    "bcp = bcp.drop_duplicates(subset=[\"snp_id\", \"chr_id\"], keep=\"first\").copy()\n",
    "len(bcp)"
   ]
  },
  {
   "cell_type": "code",
   "execution_count": null,
   "id": "a81ae087-8546-4cf8-b782-f6baa8ac0ff6",
   "metadata": {},
   "outputs": [],
   "source": [
    "bcp.rename(columns={\"pos\": \"position_bcp\"}, inplace=True)"
   ]
  },
  {
   "cell_type": "code",
   "execution_count": null,
   "id": "d1bc704f-18cb-4f52-a341-76bdea171b15",
   "metadata": {},
   "outputs": [],
   "source": [
    "# ---------- helpers ----------\n",
    "rs_re = re.compile(r\"^rs(\\d+)$\")\n",
    "\n",
    "def load_genome_csv(path: Path) -> pd.DataFrame:\n",
    "    \"\"\"Load a 23andMe-style CSV, skipping comment/blank lines; return tidy df.\"\"\"\n",
    "    with open(path, \"r\", encoding=\"utf-8-sig\", errors=\"replace\") as f:\n",
    "        data_lines = [ln for ln in f if not ln.lstrip().startswith(\"#\") and ln.strip()]\n",
    "    if not data_lines:\n",
    "        raise ValueError(f\"No data rows found in {path}\")\n",
    "    df = pd.read_csv(\n",
    "        io.StringIO(\"\".join(data_lines)),\n",
    "        header=None,\n",
    "        names=[\"rsid\",\"chromosome\",\"position\",\"genotype\"],\n",
    "        dtype={\"rsid\": \"string\", \"chromosome\": \"string\", \"genotype\": \"string\"},\n",
    "        low_memory=False,\n",
    "    )\n",
    "    # clean\n",
    "    df[\"rsid\"] = df[\"rsid\"].str.strip()\n",
    "    df[\"chromosome\"] = df[\"chromosome\"].str.strip()\n",
    "    df[\"genotype\"] = df[\"genotype\"].str.strip()\n",
    "    # force integer-like; keep as pandas nullable Int64\n",
    "    df[\"position_23\"] = pd.to_numeric(df[\"position\"], errors=\"coerce\").astype(\"Int64\")\n",
    "    \n",
    "    df.drop(columns=[\"position\"], inplace=True)\n",
    "    # keep only rs IDs; extract numeric part for joining to bcp\n",
    "    df[\"rs_numeric\"] = df[\"rsid\"].str.extract(r\"^rs(\\d+)$\", expand=False)\n",
    "    df = df[~df[\"rs_numeric\"].isna()].copy()\n",
    "    df[\"snp_id\"] = df[\"rs_numeric\"].astype(str)          # match bcp snp_id (string)\n",
    "    df.rename(columns={\"chromosome\": \"chr_id\"}, inplace=True)\n",
    "    return df[[\"rsid\",\"snp_id\",\"chr_id\",\"position_23\",\"genotype\"]]"
   ]
  },
  {
   "cell_type": "code",
   "execution_count": null,
   "id": "a8f46a25-45b8-409f-8927-b87942c341bb",
   "metadata": {},
   "outputs": [],
   "source": [
    "# ---------- process all genome files ----------\n",
    "matched_frames = []\n",
    "missing_frames = []\n",
    "\n",
    "for p in csv_paths:\n",
    "    tw = load_genome_csv(p)\n",
    "    tw[\"file\"] = p.name\n",
    "\n",
    "    # left join on (snp_id, chr_id) to fetch dbSNP position\n",
    "    m = tw.merge(bcp[[\"snp_id\",\"chr_id\",\"position_bcp\"]], on=[\"snp_id\",\"chr_id\"], how=\"left\", validate=\"m:1\")\n",
    "\n",
    "    # split matched vs missing\n",
    "    matched = m[m[\"position_bcp\"].notna()].copy()\n",
    "    missing = m[m[\"position_bcp\"].isna()].copy()\n",
    "\n",
    "    # compare positions for matched\n",
    "    # ensure numeric compare (coercing bcp string to Int64)\n",
    "    matched[\"position_bcp\"] = pd.to_numeric(matched[\"position_bcp\"], errors=\"coerce\").astype(\"Int64\")\n",
    "    matched[\"positions_agree\"] = matched[\"position_23\"].eq(matched[\"position_bcp\"])\n",
    "\n",
    "    matched_frames.append(matched)\n",
    "    missing_frames.append(missing)"
   ]
  },
  {
   "cell_type": "code",
   "execution_count": null,
   "id": "bb49c1f9-4b0a-4533-ab94-e19636fb67a8",
   "metadata": {},
   "outputs": [],
   "source": [
    "# concat all files’ results\n",
    "matched_all = pd.concat(matched_frames, ignore_index=True) if matched_frames else pd.DataFrame()\n",
    "missing_all = pd.concat(missing_frames, ignore_index=True) if missing_frames else pd.DataFrame()"
   ]
  },
  {
   "cell_type": "code",
   "execution_count": null,
   "id": "17478505-bc54-44fc-b753-b50bdb1efd16",
   "metadata": {},
   "outputs": [],
   "source": [
    "# ---------- save outputs ----------\n",
    "# Full matched table: rsid, chr, both positions, agree flag, genotype, file\n",
    "matched_all.loc[:, [\"rsid\",\"chr_id\",\"position_23\",\"position_bcp\",\"positions_agree\",\"genotype\",\"file\"]] \\\n",
    "    .to_csv(\"compare_matched.csv\", index=False)\n",
    "\n",
    "# Missing table: rs present in 23andMe but not in dbSNP b151 (for that chr)\n",
    "missing_all.loc[:, [\"rsid\",\"chr_id\",\"position_23\",\"genotype\",\"file\"]] \\\n",
    "    .to_csv(\"compare_missing.csv\", index=False)"
   ]
  },
  {
   "cell_type": "code",
   "execution_count": null,
   "id": "a5f7b833-ccb9-4e30-baf0-2f6b4494c4d1",
   "metadata": {},
   "outputs": [],
   "source": [
    "print(f\"Matched rows: {len(matched_all):,}\")\n",
    "print(f\"Missing rows: {len(missing_all):,}\")"
   ]
  },
  {
   "cell_type": "code",
   "execution_count": null,
   "id": "a42f22cf-57c5-4740-8153-ac7b3e792f6f",
   "metadata": {},
   "outputs": [],
   "source": [
    "# ---------- print all mismatches ----------\n",
    "mismatches = matched_all[matched_all[\"positions_agree\"] == False]  # noqa: E712\n",
    "print(f\"Mismatches (different positions): {len(mismatches):,}\")\n",
    "\n",
    "i = 0\n",
    "limit = 10\n",
    "for _, row in mismatches.loc[:, [\"rsid\",\"chr_id\",\"position_23\",\"position_bcp\",\"file\"]].iterrows():\n",
    "    print(f\"{row['rsid']}\\tchr{row['chr_id']}\\t23andme_position={row['position_23']}\\tbcp_position={row['position_bcp']}\\t({row['file']})\")\n",
    "    i = i + 1\n",
    "    if i > limit:\n",
    "        break"
   ]
  },
  {
   "cell_type": "code",
   "execution_count": null,
   "id": "6d8e9ed5-3f0d-4cef-880e-55baeb5059cd",
   "metadata": {},
   "outputs": [],
   "source": [
    "# could be 1 off but when we adjust there are others that don't match"
   ]
  },
  {
   "cell_type": "code",
   "execution_count": null,
   "id": "9840eb03-15a0-4dcd-ae77-9d380d38a2fe",
   "metadata": {},
   "outputs": [],
   "source": [
    "!for f in ./downloads/**/*.csv; do echo \"$f\"; cat \"$f\" | grep 45411941; done"
   ]
  },
  {
   "cell_type": "code",
   "execution_count": null,
   "id": "77f3a6cd-10bd-457f-9e56-f72c0db5cc60",
   "metadata": {
    "scrolled": true
   },
   "outputs": [],
   "source": [
    "!awk -F'\\t' '$2 == 45411941' ./downloads/clinvar.vcf"
   ]
  }
 ],
 "metadata": {
  "kernelspec": {
   "display_name": "Python 3 (ipykernel)",
   "language": "python",
   "name": "python3"
  },
  "language_info": {
   "codemirror_mode": {
    "name": "ipython",
    "version": 3
   },
   "file_extension": ".py",
   "mimetype": "text/x-python",
   "name": "python",
   "nbconvert_exporter": "python",
   "pygments_lexer": "ipython3",
   "version": "3.12.7"
  }
 },
 "nbformat": 4,
 "nbformat_minor": 5
}
