{
 "cells": [
  {
   "cell_type": "code",
   "execution_count": 1,
   "id": "7a7d0e49-a4f7-493e-9f71-efe7c10ce305",
   "metadata": {},
   "outputs": [],
   "source": [
    "import hashlib, os, re\n",
    "\n",
    "def verify_md5(file_path: str):\n",
    "    try:\n",
    "        md5_file = file_path + \".md5\"\n",
    "        with open(file_path, \"rb\") as f:\n",
    "            local = hashlib.md5(f.read()).hexdigest()\n",
    "\n",
    "        with open(md5_file) as f:\n",
    "            refs = [m.group(0).lower()\n",
    "                    for line in f if (m := re.search(r\"[a-fA-F0-9]{32}\", line))]\n",
    "\n",
    "        if local not in refs:\n",
    "            raise Exception(f\"MD5 mismatch: {local} not in {refs}\")\n",
    "        print(f\"✅ MD5 checksum for {file_path} matches.\")\n",
    "    except Exception as e:\n",
    "        raise Exception(f\"MD5 verification failed for {file_path}: {e}\")\n"
   ]
  },
  {
   "cell_type": "code",
   "execution_count": 2,
   "id": "a5277526-48f7-4453-947b-975c5e0d1377",
   "metadata": {},
   "outputs": [],
   "source": [
    "!mkdir -p ./downloads"
   ]
  },
  {
   "cell_type": "markdown",
   "id": "16f299fe-eb93-49b5-8bd3-986fd4ea6464",
   "metadata": {},
   "source": [
    "# Download clinvar GRCh37"
   ]
  },
  {
   "cell_type": "code",
   "execution_count": 3,
   "id": "7cba2dd4-25bc-4c94-9c43-1d93900da654",
   "metadata": {},
   "outputs": [
    {
     "name": "stdout",
     "output_type": "stream",
     "text": [
      "--2025-09-09 15:17:37--  https://ftp.ncbi.nlm.nih.gov/pub/clinvar/vcf_GRCh37/clinvar.vcf.gz\n",
      "Resolving ftp.ncbi.nlm.nih.gov (ftp.ncbi.nlm.nih.gov)... 2607:f220:41e:250::7, 2607:f220:41e:250::10, 2607:f220:41e:250::12, ...\n",
      "Connecting to ftp.ncbi.nlm.nih.gov (ftp.ncbi.nlm.nih.gov)|2607:f220:41e:250::7|:443... connected.\n",
      "HTTP request sent, awaiting response... 416 Requested Range Not Satisfiable\n",
      "\n",
      "    The file is already fully retrieved; nothing to do.\n",
      "\n"
     ]
    }
   ],
   "source": [
    "!wget -cP ./downloads https://ftp.ncbi.nlm.nih.gov/pub/clinvar/vcf_GRCh37/clinvar.vcf.gz"
   ]
  },
  {
   "cell_type": "code",
   "execution_count": 4,
   "id": "32b4d713-0638-4d21-b5a5-b2d5870376c3",
   "metadata": {},
   "outputs": [
    {
     "name": "stdout",
     "output_type": "stream",
     "text": [
      "--2025-09-09 15:17:38--  https://ftp.ncbi.nlm.nih.gov/pub/clinvar/vcf_GRCh37/clinvar.vcf.gz.md5\n",
      "Resolving ftp.ncbi.nlm.nih.gov (ftp.ncbi.nlm.nih.gov)... 2607:f220:41e:250::31, 2607:f220:41e:250::10, 2607:f220:41e:250::12, ...\n",
      "Connecting to ftp.ncbi.nlm.nih.gov (ftp.ncbi.nlm.nih.gov)|2607:f220:41e:250::31|:443... connected.\n",
      "HTTP request sent, awaiting response... 416 Requested Range Not Satisfiable\n",
      "\n",
      "    The file is already fully retrieved; nothing to do.\n",
      "\n"
     ]
    }
   ],
   "source": [
    "!wget -cP ./downloads https://ftp.ncbi.nlm.nih.gov/pub/clinvar/vcf_GRCh37/clinvar.vcf.gz.md5"
   ]
  },
  {
   "cell_type": "code",
   "execution_count": 5,
   "id": "6a5f3281-05de-40ab-a6d0-2e3915392aca",
   "metadata": {},
   "outputs": [
    {
     "name": "stdout",
     "output_type": "stream",
     "text": [
      "✅ MD5 checksum for ./downloads/clinvar.vcf.gz matches.\n"
     ]
    }
   ],
   "source": [
    "verify_md5(\"./downloads/clinvar.vcf.gz\")"
   ]
  },
  {
   "cell_type": "code",
   "execution_count": 6,
   "id": "9791cf6d-f3c8-4f6d-b7c5-bdd306797c25",
   "metadata": {},
   "outputs": [],
   "source": [
    "# 1.6 GB unzipped"
   ]
  },
  {
   "cell_type": "code",
   "execution_count": 7,
   "id": "763db858-91f1-4190-baa8-721d15a284d7",
   "metadata": {},
   "outputs": [],
   "source": [
    "!gzip -dkf ./downloads/clinvar.vcf.gz"
   ]
  },
  {
   "cell_type": "markdown",
   "id": "901129a6-58c5-4c38-97dd-0af1d45a2ea6",
   "metadata": {},
   "source": [
    "# Download some real 23andme data"
   ]
  },
  {
   "cell_type": "code",
   "execution_count": 8,
   "id": "442d9ea4-6159-46a2-8dc2-1217b31d1ad8",
   "metadata": {},
   "outputs": [
    {
     "name": "stdout",
     "output_type": "stream",
     "text": [
      "  % Total    % Received % Xferd  Average Speed   Time    Time     Time  Current\n",
      "                                 Dload  Upload   Total   Spent    Left  Speed\n",
      "  0     0    0     0    0     0      0      0 --:--:-- --:--:-- --:--:--     0\n",
      "100 26.2M  100 26.2M    0     0  6680k      0  0:00:04  0:00:04 --:--:-- 9297k\n"
     ]
    }
   ],
   "source": [
    "!curl -L -o ./downloads/family-genome-dataset.zip https://www.kaggle.com/api/v1/datasets/download/zusmani/family-genome-dataset"
   ]
  },
  {
   "cell_type": "code",
   "execution_count": 9,
   "id": "5bacafdd-f6d6-45fe-aa7a-2d5d6c2250c6",
   "metadata": {},
   "outputs": [],
   "source": [
    "output = !md5sum ./downloads/family-genome-dataset.zip\n",
    "assert \"3d0ddd9afe1ac5a9f30f1b0358755d73\" in output[0]"
   ]
  },
  {
   "cell_type": "code",
   "execution_count": 10,
   "id": "1fd53f09-8031-4199-b0e0-0fb63d0e5f98",
   "metadata": {},
   "outputs": [],
   "source": [
    "# info on the format https://jade-cheng.com/au/23andme-to-plink/"
   ]
  },
  {
   "cell_type": "code",
   "execution_count": 11,
   "id": "08ccf428-1503-43a1-832a-0823ef226bec",
   "metadata": {},
   "outputs": [
    {
     "name": "stdout",
     "output_type": "stream",
     "text": [
      "Archive:  ./downloads/family-genome-dataset.zip\n",
      "  inflating: ./downloads/family-genome-dataset/Child 1 Genome.csv  \n",
      "  inflating: ./downloads/family-genome-dataset/Child 2 Genome.csv  \n",
      "  inflating: ./downloads/family-genome-dataset/Child 3 Genome.csv  \n",
      "  inflating: ./downloads/family-genome-dataset/Father Genome.csv  \n",
      "  inflating: ./downloads/family-genome-dataset/Mother Genome.csv  \n"
     ]
    }
   ],
   "source": [
    "!unzip -o ./downloads/family-genome-dataset.zip -d ./downloads/family-genome-dataset"
   ]
  },
  {
   "cell_type": "code",
   "execution_count": null,
   "id": "cb49da7f-d0e3-4d67-a85e-eb9d1d6ef184",
   "metadata": {},
   "outputs": [],
   "source": []
  }
 ],
 "metadata": {
  "kernelspec": {
   "display_name": "Python 3 (ipykernel)",
   "language": "python",
   "name": "python3"
  },
  "language_info": {
   "codemirror_mode": {
    "name": "ipython",
    "version": 3
   },
   "file_extension": ".py",
   "mimetype": "text/x-python",
   "name": "python",
   "nbconvert_exporter": "python",
   "pygments_lexer": "ipython3",
   "version": "3.12.7"
  }
 },
 "nbformat": 4,
 "nbformat_minor": 5
}
